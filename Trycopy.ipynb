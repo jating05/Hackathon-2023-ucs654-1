{
 "cells": [
  {
   "cell_type": "code",
   "execution_count": 34,
   "metadata": {},
   "outputs": [
    {
     "name": "stdout",
     "output_type": "stream",
     "text": [
      "0.10.1\n"
     ]
    }
   ],
   "source": [
    "import sklearn\n",
    "from sklearn import datasets\n",
    "from sklearn.tree import DecisionTreeClassifier\n",
    "from sklearn.model_selection import train_test_split\n",
    "from sklearn.ensemble import RandomForestClassifier\n",
    "from sklearn.metrics import accuracy_score\n",
    "from sklearn.model_selection import train_test_split\n",
    "from sklearn.utils import class_weight\n",
    "import pandas as pd\n",
    "# check version number\n",
    "import imblearn\n",
    "print(imblearn.__version__)"
   ]
  },
  {
   "cell_type": "code",
   "execution_count": 35,
   "metadata": {},
   "outputs": [],
   "source": [
    "df = pd.read_csv('train.csv')\n",
    "X = df.drop('target', axis=1)\n",
    "y = df['target']"
   ]
  },
  {
   "cell_type": "code",
   "execution_count": 36,
   "metadata": {},
   "outputs": [
    {
     "name": "stdout",
     "output_type": "stream",
     "text": [
      "       F1  F2  F3  F4  F5  F6  F7  F8  F9  F10  ...  F1041  F1042  F1043  \\\n",
      "0       4   2   4   4   0   0   4   4   3    0  ...      0      4      3   \n",
      "1       2   4   1   3   0   3   2   3   2    2  ...      2      0      1   \n",
      "2       2   1   3   0   3   0   3   3   4    2  ...      2      2      3   \n",
      "3       4   2   2   3   0   4   1   4   1    3  ...      0      1      2   \n",
      "4       4   3   4   4   0   0   4   2   3    0  ...      1      4      0   \n",
      "...    ..  ..  ..  ..  ..  ..  ..  ..  ..  ...  ...    ...    ...    ...   \n",
      "49995   4   0   3   1   3   3   1   0   1    0  ...      0      0      0   \n",
      "49996   3   4   1   2   4   2   2   2   2    1  ...      4      0      3   \n",
      "49997   2   4   3   3   0   3   2   2   2    3  ...      2      0      1   \n",
      "49998   3   1   0   4   2   0   1   1   4    4  ...      4      0      3   \n",
      "49999   2   4   0   4   0   2   0   1   1    0  ...      1      3      1   \n",
      "\n",
      "       F1044  F1045  F1046  F1047  F1048  F1049  F1050  \n",
      "0          4      3      2      4      4      1      0  \n",
      "1          0      1      0      1      2      4      3  \n",
      "2          4      2      1      2      3      3      4  \n",
      "3          2      2      1      0      1      0      2  \n",
      "4          1      4      1      4      4      2      1  \n",
      "...      ...    ...    ...    ...    ...    ...    ...  \n",
      "49995      0      0      3      0      0      3      1  \n",
      "49996      3      1      2      0      0      0      0  \n",
      "49997      0      2      3      2      2      4      2  \n",
      "49998      1      4      4      3      3      3      1  \n",
      "49999      4      0      2      0      0      4      0  \n",
      "\n",
      "[50000 rows x 1050 columns]\n"
     ]
    }
   ],
   "source": [
    "print(X)"
   ]
  },
  {
   "cell_type": "code",
   "execution_count": 37,
   "metadata": {},
   "outputs": [],
   "source": [
    "# X_train, X_test, y_train, y_test = train_test_split(X, y, test_size=0.2, random_state=42)"
   ]
  },
  {
   "cell_type": "code",
   "execution_count": 38,
   "metadata": {},
   "outputs": [],
   "source": [
    "# from imblearn.over_sampling import SMOTE\n",
    "\n",
    "# # create the SMOTE object\n",
    "# sm = SMOTE(sampling_strategy='auto', random_state=42)\n",
    "\n",
    "# # apply SMOTE to the training data\n",
    "# X_res, y_res = sm.fit_resample(X, y)\n"
   ]
  },
  {
   "cell_type": "code",
   "execution_count": 39,
   "metadata": {},
   "outputs": [],
   "source": [
    "# from imblearn.under_sampling import RandomUnderSampler\n",
    "# undersample = RandomUnderSampler(sampling_strategy='auto')\n",
    "\n",
    "# # Apply undersampling\n",
    "# X_res, y_res = undersample.fit_resample(X, y)"
   ]
  },
  {
   "cell_type": "code",
   "execution_count": 40,
   "metadata": {},
   "outputs": [],
   "source": [
    "# from imblearn.under_sampling import NearMiss\n",
    "# nm = NearMiss(version=2)\n",
    "\n",
    "# # Apply the NearMiss method to the training data\n",
    "# X_res, y_res = nm.fit_resample(X, y)\n"
   ]
  },
  {
   "cell_type": "code",
   "execution_count": null,
   "metadata": {},
   "outputs": [],
   "source": [
    "from imblearn.under_sampling import CondensedNearestNeighbour, OneSidedSelection\n",
    "\n",
    "oss = OneSidedSelection(sampling_strategy='auto', n_neighbors=3)\n",
    "\n",
    "X_res, y_res = oss.fit_resample(X, y)\n"
   ]
  },
  {
   "cell_type": "code",
   "execution_count": 41,
   "metadata": {},
   "outputs": [
    {
     "ename": "MemoryError",
     "evalue": "Unable to allocate 255. MiB for an array with shape (10008, 3337) and data type float64",
     "output_type": "error",
     "traceback": [
      "\u001b[1;31m---------------------------------------------------------------------------\u001b[0m",
      "\u001b[1;31mMemoryError\u001b[0m                               Traceback (most recent call last)",
      "Cell \u001b[1;32mIn[41], line 3\u001b[0m\n\u001b[0;32m      1\u001b[0m \u001b[39mfrom\u001b[39;00m \u001b[39mimblearn\u001b[39;00m\u001b[39m.\u001b[39;00m\u001b[39munder_sampling\u001b[39;00m \u001b[39mimport\u001b[39;00m CondensedNearestNeighbour, OneSidedSelection\n\u001b[0;32m      2\u001b[0m cnn \u001b[39m=\u001b[39m CondensedNearestNeighbour(sampling_strategy\u001b[39m=\u001b[39m\u001b[39m'\u001b[39m\u001b[39mauto\u001b[39m\u001b[39m'\u001b[39m, n_neighbors\u001b[39m=\u001b[39m\u001b[39m3\u001b[39m)\n\u001b[1;32m----> 3\u001b[0m X_res, y_res \u001b[39m=\u001b[39m cnn\u001b[39m.\u001b[39;49mfit_resample(X, y)\n",
      "File \u001b[1;32mc:\\Users\\jatin\\lib\\site-packages\\imblearn\\base.py:203\u001b[0m, in \u001b[0;36mBaseSampler.fit_resample\u001b[1;34m(self, X, y)\u001b[0m\n\u001b[0;32m    182\u001b[0m \u001b[39m\u001b[39m\u001b[39m\"\"\"Resample the dataset.\u001b[39;00m\n\u001b[0;32m    183\u001b[0m \n\u001b[0;32m    184\u001b[0m \u001b[39mParameters\u001b[39;00m\n\u001b[1;32m   (...)\u001b[0m\n\u001b[0;32m    200\u001b[0m \u001b[39m    The corresponding label of `X_resampled`.\u001b[39;00m\n\u001b[0;32m    201\u001b[0m \u001b[39m\"\"\"\u001b[39;00m\n\u001b[0;32m    202\u001b[0m \u001b[39mself\u001b[39m\u001b[39m.\u001b[39m_validate_params()\n\u001b[1;32m--> 203\u001b[0m \u001b[39mreturn\u001b[39;00m \u001b[39msuper\u001b[39;49m()\u001b[39m.\u001b[39;49mfit_resample(X, y)\n",
      "File \u001b[1;32mc:\\Users\\jatin\\lib\\site-packages\\imblearn\\base.py:88\u001b[0m, in \u001b[0;36mSamplerMixin.fit_resample\u001b[1;34m(self, X, y)\u001b[0m\n\u001b[0;32m     82\u001b[0m X, y, binarize_y \u001b[39m=\u001b[39m \u001b[39mself\u001b[39m\u001b[39m.\u001b[39m_check_X_y(X, y)\n\u001b[0;32m     84\u001b[0m \u001b[39mself\u001b[39m\u001b[39m.\u001b[39msampling_strategy_ \u001b[39m=\u001b[39m check_sampling_strategy(\n\u001b[0;32m     85\u001b[0m     \u001b[39mself\u001b[39m\u001b[39m.\u001b[39msampling_strategy, y, \u001b[39mself\u001b[39m\u001b[39m.\u001b[39m_sampling_type\n\u001b[0;32m     86\u001b[0m )\n\u001b[1;32m---> 88\u001b[0m output \u001b[39m=\u001b[39m \u001b[39mself\u001b[39;49m\u001b[39m.\u001b[39;49m_fit_resample(X, y)\n\u001b[0;32m     90\u001b[0m y_ \u001b[39m=\u001b[39m (\n\u001b[0;32m     91\u001b[0m     label_binarize(output[\u001b[39m1\u001b[39m], classes\u001b[39m=\u001b[39mnp\u001b[39m.\u001b[39munique(y)) \u001b[39mif\u001b[39;00m binarize_y \u001b[39melse\u001b[39;00m output[\u001b[39m1\u001b[39m]\n\u001b[0;32m     92\u001b[0m )\n\u001b[0;32m     94\u001b[0m X_, y_ \u001b[39m=\u001b[39m arrays_transformer\u001b[39m.\u001b[39mtransform(output[\u001b[39m0\u001b[39m], y_)\n",
      "File \u001b[1;32mc:\\Users\\jatin\\lib\\site-packages\\imblearn\\under_sampling\\_prototype_selection\\_condensed_nearest_neighbour.py:219\u001b[0m, in \u001b[0;36mCondensedNearestNeighbour._fit_resample\u001b[1;34m(self, X, y)\u001b[0m\n\u001b[0;32m    214\u001b[0m         \u001b[39mself\u001b[39m\u001b[39m.\u001b[39mestimator_\u001b[39m.\u001b[39mfit(C_x, C_y)\n\u001b[0;32m    216\u001b[0m         \u001b[39m# This experimental to speed up the search\u001b[39;00m\n\u001b[0;32m    217\u001b[0m         \u001b[39m# Classify all the element in S and avoid to test the\u001b[39;00m\n\u001b[0;32m    218\u001b[0m         \u001b[39m# well classified elements\u001b[39;00m\n\u001b[1;32m--> 219\u001b[0m         pred_S_y \u001b[39m=\u001b[39m \u001b[39mself\u001b[39;49m\u001b[39m.\u001b[39;49mestimator_\u001b[39m.\u001b[39;49mpredict(S_x)\n\u001b[0;32m    220\u001b[0m         good_classif_label \u001b[39m=\u001b[39m np\u001b[39m.\u001b[39munique(\n\u001b[0;32m    221\u001b[0m             np\u001b[39m.\u001b[39mappend(idx_maj_sample, np\u001b[39m.\u001b[39mflatnonzero(pred_S_y \u001b[39m==\u001b[39m S_y))\n\u001b[0;32m    222\u001b[0m         )\n\u001b[0;32m    224\u001b[0m idx_under \u001b[39m=\u001b[39m np\u001b[39m.\u001b[39mconcatenate((idx_under, idx_maj_sample), axis\u001b[39m=\u001b[39m\u001b[39m0\u001b[39m)\n",
      "File \u001b[1;32mc:\\Users\\jatin\\lib\\site-packages\\sklearn\\neighbors\\_classification.py:234\u001b[0m, in \u001b[0;36mKNeighborsClassifier.predict\u001b[1;34m(self, X)\u001b[0m\n\u001b[0;32m    218\u001b[0m \u001b[39m\u001b[39m\u001b[39m\"\"\"Predict the class labels for the provided data.\u001b[39;00m\n\u001b[0;32m    219\u001b[0m \n\u001b[0;32m    220\u001b[0m \u001b[39mParameters\u001b[39;00m\n\u001b[1;32m   (...)\u001b[0m\n\u001b[0;32m    229\u001b[0m \u001b[39m    Class labels for each data sample.\u001b[39;00m\n\u001b[0;32m    230\u001b[0m \u001b[39m\"\"\"\u001b[39;00m\n\u001b[0;32m    231\u001b[0m \u001b[39mif\u001b[39;00m \u001b[39mself\u001b[39m\u001b[39m.\u001b[39mweights \u001b[39m==\u001b[39m \u001b[39m\"\u001b[39m\u001b[39muniform\u001b[39m\u001b[39m\"\u001b[39m:\n\u001b[0;32m    232\u001b[0m     \u001b[39m# In that case, we do not need the distances to perform\u001b[39;00m\n\u001b[0;32m    233\u001b[0m     \u001b[39m# the weighting so we do not compute them.\u001b[39;00m\n\u001b[1;32m--> 234\u001b[0m     neigh_ind \u001b[39m=\u001b[39m \u001b[39mself\u001b[39;49m\u001b[39m.\u001b[39;49mkneighbors(X, return_distance\u001b[39m=\u001b[39;49m\u001b[39mFalse\u001b[39;49;00m)\n\u001b[0;32m    235\u001b[0m     neigh_dist \u001b[39m=\u001b[39m \u001b[39mNone\u001b[39;00m\n\u001b[0;32m    236\u001b[0m \u001b[39melse\u001b[39;00m:\n",
      "File \u001b[1;32mc:\\Users\\jatin\\lib\\site-packages\\sklearn\\neighbors\\_base.py:861\u001b[0m, in \u001b[0;36mKNeighborsMixin.kneighbors\u001b[1;34m(self, X, n_neighbors, return_distance)\u001b[0m\n\u001b[0;32m    858\u001b[0m     \u001b[39melse\u001b[39;00m:\n\u001b[0;32m    859\u001b[0m         kwds \u001b[39m=\u001b[39m \u001b[39mself\u001b[39m\u001b[39m.\u001b[39meffective_metric_params_\n\u001b[1;32m--> 861\u001b[0m     chunked_results \u001b[39m=\u001b[39m \u001b[39mlist\u001b[39;49m(\n\u001b[0;32m    862\u001b[0m         pairwise_distances_chunked(\n\u001b[0;32m    863\u001b[0m             X,\n\u001b[0;32m    864\u001b[0m             \u001b[39mself\u001b[39;49m\u001b[39m.\u001b[39;49m_fit_X,\n\u001b[0;32m    865\u001b[0m             reduce_func\u001b[39m=\u001b[39;49mreduce_func,\n\u001b[0;32m    866\u001b[0m             metric\u001b[39m=\u001b[39;49m\u001b[39mself\u001b[39;49m\u001b[39m.\u001b[39;49meffective_metric_,\n\u001b[0;32m    867\u001b[0m             n_jobs\u001b[39m=\u001b[39;49mn_jobs,\n\u001b[0;32m    868\u001b[0m             \u001b[39m*\u001b[39;49m\u001b[39m*\u001b[39;49mkwds,\n\u001b[0;32m    869\u001b[0m         )\n\u001b[0;32m    870\u001b[0m     )\n\u001b[0;32m    872\u001b[0m \u001b[39melif\u001b[39;00m \u001b[39mself\u001b[39m\u001b[39m.\u001b[39m_fit_method \u001b[39min\u001b[39;00m [\u001b[39m\"\u001b[39m\u001b[39mball_tree\u001b[39m\u001b[39m\"\u001b[39m, \u001b[39m\"\u001b[39m\u001b[39mkd_tree\u001b[39m\u001b[39m\"\u001b[39m]:\n\u001b[0;32m    873\u001b[0m     \u001b[39mif\u001b[39;00m issparse(X):\n",
      "File \u001b[1;32mc:\\Users\\jatin\\lib\\site-packages\\sklearn\\metrics\\pairwise.py:1867\u001b[0m, in \u001b[0;36mpairwise_distances_chunked\u001b[1;34m(X, Y, reduce_func, metric, n_jobs, working_memory, **kwds)\u001b[0m\n\u001b[0;32m   1865\u001b[0m \u001b[39melse\u001b[39;00m:\n\u001b[0;32m   1866\u001b[0m     X_chunk \u001b[39m=\u001b[39m X[sl]\n\u001b[1;32m-> 1867\u001b[0m D_chunk \u001b[39m=\u001b[39m pairwise_distances(X_chunk, Y, metric\u001b[39m=\u001b[39mmetric, n_jobs\u001b[39m=\u001b[39mn_jobs, \u001b[39m*\u001b[39m\u001b[39m*\u001b[39mkwds)\n\u001b[0;32m   1868\u001b[0m \u001b[39mif\u001b[39;00m (X \u001b[39mis\u001b[39;00m Y \u001b[39mor\u001b[39;00m Y \u001b[39mis\u001b[39;00m \u001b[39mNone\u001b[39;00m) \u001b[39mand\u001b[39;00m PAIRWISE_DISTANCE_FUNCTIONS\u001b[39m.\u001b[39mget(\n\u001b[0;32m   1869\u001b[0m     metric, \u001b[39mNone\u001b[39;00m\n\u001b[0;32m   1870\u001b[0m ) \u001b[39mis\u001b[39;00m euclidean_distances:\n\u001b[0;32m   1871\u001b[0m     \u001b[39m# zeroing diagonal, taking care of aliases of \"euclidean\",\u001b[39;00m\n\u001b[0;32m   1872\u001b[0m     \u001b[39m# i.e. \"l2\"\u001b[39;00m\n\u001b[0;32m   1873\u001b[0m     D_chunk\u001b[39m.\u001b[39mflat[sl\u001b[39m.\u001b[39mstart :: _num_samples(X) \u001b[39m+\u001b[39m \u001b[39m1\u001b[39m] \u001b[39m=\u001b[39m \u001b[39m0\u001b[39m\n",
      "File \u001b[1;32mc:\\Users\\jatin\\lib\\site-packages\\sklearn\\metrics\\pairwise.py:2039\u001b[0m, in \u001b[0;36mpairwise_distances\u001b[1;34m(X, Y, metric, n_jobs, force_all_finite, **kwds)\u001b[0m\n\u001b[0;32m   2036\u001b[0m         \u001b[39mreturn\u001b[39;00m distance\u001b[39m.\u001b[39msquareform(distance\u001b[39m.\u001b[39mpdist(X, metric\u001b[39m=\u001b[39mmetric, \u001b[39m*\u001b[39m\u001b[39m*\u001b[39mkwds))\n\u001b[0;32m   2037\u001b[0m     func \u001b[39m=\u001b[39m partial(distance\u001b[39m.\u001b[39mcdist, metric\u001b[39m=\u001b[39mmetric, \u001b[39m*\u001b[39m\u001b[39m*\u001b[39mkwds)\n\u001b[1;32m-> 2039\u001b[0m \u001b[39mreturn\u001b[39;00m _parallel_pairwise(X, Y, func, n_jobs, \u001b[39m*\u001b[39m\u001b[39m*\u001b[39mkwds)\n",
      "File \u001b[1;32mc:\\Users\\jatin\\lib\\site-packages\\sklearn\\metrics\\pairwise.py:1579\u001b[0m, in \u001b[0;36m_parallel_pairwise\u001b[1;34m(X, Y, func, n_jobs, **kwds)\u001b[0m\n\u001b[0;32m   1576\u001b[0m X, Y, dtype \u001b[39m=\u001b[39m _return_float_dtype(X, Y)\n\u001b[0;32m   1578\u001b[0m \u001b[39mif\u001b[39;00m effective_n_jobs(n_jobs) \u001b[39m==\u001b[39m \u001b[39m1\u001b[39m:\n\u001b[1;32m-> 1579\u001b[0m     \u001b[39mreturn\u001b[39;00m func(X, Y, \u001b[39m*\u001b[39m\u001b[39m*\u001b[39mkwds)\n\u001b[0;32m   1581\u001b[0m \u001b[39m# enforce a threading backend to prevent data communication overhead\u001b[39;00m\n\u001b[0;32m   1582\u001b[0m fd \u001b[39m=\u001b[39m delayed(_dist_wrapper)\n",
      "File \u001b[1;32mc:\\Users\\jatin\\lib\\site-packages\\sklearn\\metrics\\pairwise.py:328\u001b[0m, in \u001b[0;36meuclidean_distances\u001b[1;34m(X, Y, Y_norm_squared, squared, X_norm_squared)\u001b[0m\n\u001b[0;32m    322\u001b[0m     \u001b[39mif\u001b[39;00m Y_norm_squared\u001b[39m.\u001b[39mshape \u001b[39m!=\u001b[39m (\u001b[39m1\u001b[39m, Y\u001b[39m.\u001b[39mshape[\u001b[39m0\u001b[39m]):\n\u001b[0;32m    323\u001b[0m         \u001b[39mraise\u001b[39;00m \u001b[39mValueError\u001b[39;00m(\n\u001b[0;32m    324\u001b[0m             \u001b[39mf\u001b[39m\u001b[39m\"\u001b[39m\u001b[39mIncompatible dimensions for Y of shape \u001b[39m\u001b[39m{\u001b[39;00mY\u001b[39m.\u001b[39mshape\u001b[39m}\u001b[39;00m\u001b[39m and \u001b[39m\u001b[39m\"\u001b[39m\n\u001b[0;32m    325\u001b[0m             \u001b[39mf\u001b[39m\u001b[39m\"\u001b[39m\u001b[39mY_norm_squared of shape \u001b[39m\u001b[39m{\u001b[39;00moriginal_shape\u001b[39m}\u001b[39;00m\u001b[39m.\u001b[39m\u001b[39m\"\u001b[39m\n\u001b[0;32m    326\u001b[0m         )\n\u001b[1;32m--> 328\u001b[0m \u001b[39mreturn\u001b[39;00m _euclidean_distances(X, Y, X_norm_squared, Y_norm_squared, squared)\n",
      "File \u001b[1;32mc:\\Users\\jatin\\lib\\site-packages\\sklearn\\metrics\\pairwise.py:369\u001b[0m, in \u001b[0;36m_euclidean_distances\u001b[1;34m(X, Y, X_norm_squared, Y_norm_squared, squared)\u001b[0m\n\u001b[0;32m    366\u001b[0m     distances \u001b[39m=\u001b[39m _euclidean_distances_upcast(X, XX, Y, YY)\n\u001b[0;32m    367\u001b[0m \u001b[39melse\u001b[39;00m:\n\u001b[0;32m    368\u001b[0m     \u001b[39m# if dtype is already float64, no need to chunk and upcast\u001b[39;00m\n\u001b[1;32m--> 369\u001b[0m     distances \u001b[39m=\u001b[39m \u001b[39m-\u001b[39;49m\u001b[39m2\u001b[39;49m \u001b[39m*\u001b[39;49m safe_sparse_dot(X, Y\u001b[39m.\u001b[39;49mT, dense_output\u001b[39m=\u001b[39;49m\u001b[39mTrue\u001b[39;49;00m)\n\u001b[0;32m    370\u001b[0m     distances \u001b[39m+\u001b[39m\u001b[39m=\u001b[39m XX\n\u001b[0;32m    371\u001b[0m     distances \u001b[39m+\u001b[39m\u001b[39m=\u001b[39m YY\n",
      "\u001b[1;31mMemoryError\u001b[0m: Unable to allocate 255. MiB for an array with shape (10008, 3337) and data type float64"
     ]
    }
   ],
   "source": [
    "from imblearn.under_sampling import CondensedNearestNeighbour, OneSidedSelection\n",
    "cnn = CondensedNearestNeighbour(sampling_strategy='auto', n_neighbors=3)\n",
    "X_res, y_res = cnn.fit_resample(X, y)\n"
   ]
  },
  {
   "cell_type": "code",
   "execution_count": null,
   "metadata": {},
   "outputs": [],
   "source": [
    "# from imblearn.under_sampling import TomekLinks\n",
    "\n",
    "# # Initialize the TomekLinks object\n",
    "# tl = TomekLinks()\n",
    "# X_res, y_res = tl.fit_resample(X, y)\n"
   ]
  },
  {
   "cell_type": "code",
   "execution_count": null,
   "metadata": {},
   "outputs": [
    {
     "name": "stdout",
     "output_type": "stream",
     "text": [
      "       F1  F2  F3  F4  F5  F6  F7  F8  F9  F10  ...  F1041  F1042  F1043  \\\n",
      "0       4   2   4   0   0   0   3   4   0    0  ...      2      4      1   \n",
      "1       4   2   4   0   0   0   3   4   0    0  ...      2      4      1   \n",
      "2       0   3   0   4   2   1   3   3   2    0  ...      2      4      0   \n",
      "3       0   2   0   4   2   1   3   3   2    0  ...      2      4      0   \n",
      "4       2   4   1   1   0   1   2   3   4    2  ...      2      4      2   \n",
      "...    ..  ..  ..  ..  ..  ..  ..  ..  ..  ...  ...    ...    ...    ...   \n",
      "12470   2   0   3   3   0   4   2   2   4    4  ...      3      1      2   \n",
      "12471   3   0   0   3   3   1   0   2   0    1  ...      3      4      4   \n",
      "12472   1   4   1   2   0   0   3   1   0    3  ...      3      4      3   \n",
      "12473   2   2   3   2   2   2   2   0   3    3  ...      3      0      2   \n",
      "12474   0   3   1   3   1   1   3   2   0    2  ...      2      1      3   \n",
      "\n",
      "       F1044  F1045  F1046  F1047  F1048  F1049  F1050  \n",
      "0          3      3      1      1      0      3      0  \n",
      "1          3      3      1      3      0      3      0  \n",
      "2          0      0      3      3      2      4      1  \n",
      "3          0      0      3      3      2      4      3  \n",
      "4          3      2      0      2      2      2      4  \n",
      "...      ...    ...    ...    ...    ...    ...    ...  \n",
      "12470      1      2      3      4      4      3      4  \n",
      "12471      4      3      2      0      0      0      0  \n",
      "12472      1      4      4      2      1      2      1  \n",
      "12473      1      2      4      2      4      2      4  \n",
      "12474      4      0      0      1      3      3      3  \n",
      "\n",
      "[12475 rows x 1050 columns]\n"
     ]
    }
   ],
   "source": [
    "print(X_res)"
   ]
  },
  {
   "cell_type": "code",
   "execution_count": null,
   "metadata": {},
   "outputs": [
    {
     "name": "stdout",
     "output_type": "stream",
     "text": [
      "Counter({0: 2495, 1: 2495, 2: 2495, 3: 2495, 4: 2495})\n"
     ]
    }
   ],
   "source": [
    "\n",
    "# Generate and plot a synthetic imbalanced classification dataset\n",
    "from collections import Counter\n",
    "from sklearn.datasets import make_classification\n",
    "from matplotlib import pyplot\n",
    "from numpy import where\n",
    "\n",
    "counter = Counter(y_res)\n",
    "print(counter)\n",
    "# # scatter plot of examples by class label\n",
    "# for label, _ in counter.items():\n",
    "#     row_ix = where(y == label)[0]\n",
    "# pyplot.scatter(X[row_ix, 0], X[row_ix, 1], label=str(label))\n",
    "# pyplot.legend()\n",
    "# pyplot.show()"
   ]
  },
  {
   "cell_type": "code",
   "execution_count": null,
   "metadata": {},
   "outputs": [
    {
     "data": {
      "text/html": [
       "<div>\n",
       "<style scoped>\n",
       "    .dataframe tbody tr th:only-of-type {\n",
       "        vertical-align: middle;\n",
       "    }\n",
       "\n",
       "    .dataframe tbody tr th {\n",
       "        vertical-align: top;\n",
       "    }\n",
       "\n",
       "    .dataframe thead th {\n",
       "        text-align: right;\n",
       "    }\n",
       "</style>\n",
       "<table border=\"1\" class=\"dataframe\">\n",
       "  <thead>\n",
       "    <tr style=\"text-align: right;\">\n",
       "      <th></th>\n",
       "      <th>F1</th>\n",
       "      <th>F2</th>\n",
       "      <th>F3</th>\n",
       "      <th>F4</th>\n",
       "      <th>F5</th>\n",
       "      <th>F6</th>\n",
       "      <th>F7</th>\n",
       "      <th>F8</th>\n",
       "      <th>F9</th>\n",
       "      <th>F10</th>\n",
       "      <th>...</th>\n",
       "      <th>F1041</th>\n",
       "      <th>F1042</th>\n",
       "      <th>F1043</th>\n",
       "      <th>F1044</th>\n",
       "      <th>F1045</th>\n",
       "      <th>F1046</th>\n",
       "      <th>F1047</th>\n",
       "      <th>F1048</th>\n",
       "      <th>F1049</th>\n",
       "      <th>F1050</th>\n",
       "    </tr>\n",
       "  </thead>\n",
       "  <tbody>\n",
       "    <tr>\n",
       "      <th>count</th>\n",
       "      <td>12475.000000</td>\n",
       "      <td>12475.000000</td>\n",
       "      <td>12475.000000</td>\n",
       "      <td>12475.000000</td>\n",
       "      <td>12475.000000</td>\n",
       "      <td>12475.000000</td>\n",
       "      <td>12475.000000</td>\n",
       "      <td>12475.000000</td>\n",
       "      <td>12475.000000</td>\n",
       "      <td>12475.000000</td>\n",
       "      <td>...</td>\n",
       "      <td>12475.000000</td>\n",
       "      <td>12475.000000</td>\n",
       "      <td>12475.000000</td>\n",
       "      <td>12475.000000</td>\n",
       "      <td>12475.000000</td>\n",
       "      <td>12475.000000</td>\n",
       "      <td>12475.000000</td>\n",
       "      <td>12475.000000</td>\n",
       "      <td>12475.000000</td>\n",
       "      <td>12475.000000</td>\n",
       "    </tr>\n",
       "    <tr>\n",
       "      <th>mean</th>\n",
       "      <td>2.308297</td>\n",
       "      <td>1.914709</td>\n",
       "      <td>2.110942</td>\n",
       "      <td>2.062044</td>\n",
       "      <td>2.061483</td>\n",
       "      <td>1.883126</td>\n",
       "      <td>2.093467</td>\n",
       "      <td>1.982926</td>\n",
       "      <td>1.982766</td>\n",
       "      <td>1.827575</td>\n",
       "      <td>...</td>\n",
       "      <td>1.905090</td>\n",
       "      <td>2.260281</td>\n",
       "      <td>1.999760</td>\n",
       "      <td>2.018838</td>\n",
       "      <td>1.949739</td>\n",
       "      <td>1.922806</td>\n",
       "      <td>1.924970</td>\n",
       "      <td>1.911263</td>\n",
       "      <td>1.758477</td>\n",
       "      <td>1.924489</td>\n",
       "    </tr>\n",
       "    <tr>\n",
       "      <th>std</th>\n",
       "      <td>1.299730</td>\n",
       "      <td>1.365334</td>\n",
       "      <td>1.382814</td>\n",
       "      <td>1.342560</td>\n",
       "      <td>1.388639</td>\n",
       "      <td>1.414542</td>\n",
       "      <td>1.368729</td>\n",
       "      <td>1.392373</td>\n",
       "      <td>1.413967</td>\n",
       "      <td>1.367882</td>\n",
       "      <td>...</td>\n",
       "      <td>1.328564</td>\n",
       "      <td>1.364119</td>\n",
       "      <td>1.317091</td>\n",
       "      <td>1.278595</td>\n",
       "      <td>1.302847</td>\n",
       "      <td>1.478580</td>\n",
       "      <td>1.389156</td>\n",
       "      <td>1.390569</td>\n",
       "      <td>1.366978</td>\n",
       "      <td>1.406508</td>\n",
       "    </tr>\n",
       "    <tr>\n",
       "      <th>min</th>\n",
       "      <td>0.000000</td>\n",
       "      <td>0.000000</td>\n",
       "      <td>0.000000</td>\n",
       "      <td>0.000000</td>\n",
       "      <td>0.000000</td>\n",
       "      <td>0.000000</td>\n",
       "      <td>0.000000</td>\n",
       "      <td>0.000000</td>\n",
       "      <td>0.000000</td>\n",
       "      <td>0.000000</td>\n",
       "      <td>...</td>\n",
       "      <td>0.000000</td>\n",
       "      <td>0.000000</td>\n",
       "      <td>0.000000</td>\n",
       "      <td>0.000000</td>\n",
       "      <td>0.000000</td>\n",
       "      <td>0.000000</td>\n",
       "      <td>0.000000</td>\n",
       "      <td>0.000000</td>\n",
       "      <td>0.000000</td>\n",
       "      <td>0.000000</td>\n",
       "    </tr>\n",
       "    <tr>\n",
       "      <th>25%</th>\n",
       "      <td>1.000000</td>\n",
       "      <td>1.000000</td>\n",
       "      <td>1.000000</td>\n",
       "      <td>1.000000</td>\n",
       "      <td>1.000000</td>\n",
       "      <td>1.000000</td>\n",
       "      <td>1.000000</td>\n",
       "      <td>1.000000</td>\n",
       "      <td>1.000000</td>\n",
       "      <td>1.000000</td>\n",
       "      <td>...</td>\n",
       "      <td>1.000000</td>\n",
       "      <td>1.000000</td>\n",
       "      <td>1.000000</td>\n",
       "      <td>1.000000</td>\n",
       "      <td>1.000000</td>\n",
       "      <td>1.000000</td>\n",
       "      <td>1.000000</td>\n",
       "      <td>1.000000</td>\n",
       "      <td>1.000000</td>\n",
       "      <td>1.000000</td>\n",
       "    </tr>\n",
       "    <tr>\n",
       "      <th>50%</th>\n",
       "      <td>2.000000</td>\n",
       "      <td>2.000000</td>\n",
       "      <td>2.000000</td>\n",
       "      <td>2.000000</td>\n",
       "      <td>2.000000</td>\n",
       "      <td>2.000000</td>\n",
       "      <td>2.000000</td>\n",
       "      <td>2.000000</td>\n",
       "      <td>2.000000</td>\n",
       "      <td>2.000000</td>\n",
       "      <td>...</td>\n",
       "      <td>2.000000</td>\n",
       "      <td>2.000000</td>\n",
       "      <td>2.000000</td>\n",
       "      <td>2.000000</td>\n",
       "      <td>2.000000</td>\n",
       "      <td>2.000000</td>\n",
       "      <td>2.000000</td>\n",
       "      <td>2.000000</td>\n",
       "      <td>2.000000</td>\n",
       "      <td>2.000000</td>\n",
       "    </tr>\n",
       "    <tr>\n",
       "      <th>75%</th>\n",
       "      <td>3.000000</td>\n",
       "      <td>3.000000</td>\n",
       "      <td>3.000000</td>\n",
       "      <td>3.000000</td>\n",
       "      <td>3.000000</td>\n",
       "      <td>3.000000</td>\n",
       "      <td>3.000000</td>\n",
       "      <td>3.000000</td>\n",
       "      <td>3.000000</td>\n",
       "      <td>3.000000</td>\n",
       "      <td>...</td>\n",
       "      <td>3.000000</td>\n",
       "      <td>3.000000</td>\n",
       "      <td>3.000000</td>\n",
       "      <td>3.000000</td>\n",
       "      <td>3.000000</td>\n",
       "      <td>3.000000</td>\n",
       "      <td>3.000000</td>\n",
       "      <td>3.000000</td>\n",
       "      <td>3.000000</td>\n",
       "      <td>3.000000</td>\n",
       "    </tr>\n",
       "    <tr>\n",
       "      <th>max</th>\n",
       "      <td>4.000000</td>\n",
       "      <td>4.000000</td>\n",
       "      <td>4.000000</td>\n",
       "      <td>4.000000</td>\n",
       "      <td>4.000000</td>\n",
       "      <td>4.000000</td>\n",
       "      <td>4.000000</td>\n",
       "      <td>4.000000</td>\n",
       "      <td>4.000000</td>\n",
       "      <td>4.000000</td>\n",
       "      <td>...</td>\n",
       "      <td>4.000000</td>\n",
       "      <td>4.000000</td>\n",
       "      <td>4.000000</td>\n",
       "      <td>4.000000</td>\n",
       "      <td>4.000000</td>\n",
       "      <td>4.000000</td>\n",
       "      <td>4.000000</td>\n",
       "      <td>4.000000</td>\n",
       "      <td>4.000000</td>\n",
       "      <td>4.000000</td>\n",
       "    </tr>\n",
       "  </tbody>\n",
       "</table>\n",
       "<p>8 rows × 1050 columns</p>\n",
       "</div>"
      ],
      "text/plain": [
       "                 F1            F2            F3            F4            F5  \\\n",
       "count  12475.000000  12475.000000  12475.000000  12475.000000  12475.000000   \n",
       "mean       2.308297      1.914709      2.110942      2.062044      2.061483   \n",
       "std        1.299730      1.365334      1.382814      1.342560      1.388639   \n",
       "min        0.000000      0.000000      0.000000      0.000000      0.000000   \n",
       "25%        1.000000      1.000000      1.000000      1.000000      1.000000   \n",
       "50%        2.000000      2.000000      2.000000      2.000000      2.000000   \n",
       "75%        3.000000      3.000000      3.000000      3.000000      3.000000   \n",
       "max        4.000000      4.000000      4.000000      4.000000      4.000000   \n",
       "\n",
       "                 F6            F7            F8            F9           F10  \\\n",
       "count  12475.000000  12475.000000  12475.000000  12475.000000  12475.000000   \n",
       "mean       1.883126      2.093467      1.982926      1.982766      1.827575   \n",
       "std        1.414542      1.368729      1.392373      1.413967      1.367882   \n",
       "min        0.000000      0.000000      0.000000      0.000000      0.000000   \n",
       "25%        1.000000      1.000000      1.000000      1.000000      1.000000   \n",
       "50%        2.000000      2.000000      2.000000      2.000000      2.000000   \n",
       "75%        3.000000      3.000000      3.000000      3.000000      3.000000   \n",
       "max        4.000000      4.000000      4.000000      4.000000      4.000000   \n",
       "\n",
       "       ...         F1041         F1042         F1043         F1044  \\\n",
       "count  ...  12475.000000  12475.000000  12475.000000  12475.000000   \n",
       "mean   ...      1.905090      2.260281      1.999760      2.018838   \n",
       "std    ...      1.328564      1.364119      1.317091      1.278595   \n",
       "min    ...      0.000000      0.000000      0.000000      0.000000   \n",
       "25%    ...      1.000000      1.000000      1.000000      1.000000   \n",
       "50%    ...      2.000000      2.000000      2.000000      2.000000   \n",
       "75%    ...      3.000000      3.000000      3.000000      3.000000   \n",
       "max    ...      4.000000      4.000000      4.000000      4.000000   \n",
       "\n",
       "              F1045         F1046         F1047         F1048         F1049  \\\n",
       "count  12475.000000  12475.000000  12475.000000  12475.000000  12475.000000   \n",
       "mean       1.949739      1.922806      1.924970      1.911263      1.758477   \n",
       "std        1.302847      1.478580      1.389156      1.390569      1.366978   \n",
       "min        0.000000      0.000000      0.000000      0.000000      0.000000   \n",
       "25%        1.000000      1.000000      1.000000      1.000000      1.000000   \n",
       "50%        2.000000      2.000000      2.000000      2.000000      2.000000   \n",
       "75%        3.000000      3.000000      3.000000      3.000000      3.000000   \n",
       "max        4.000000      4.000000      4.000000      4.000000      4.000000   \n",
       "\n",
       "              F1050  \n",
       "count  12475.000000  \n",
       "mean       1.924489  \n",
       "std        1.406508  \n",
       "min        0.000000  \n",
       "25%        1.000000  \n",
       "50%        2.000000  \n",
       "75%        3.000000  \n",
       "max        4.000000  \n",
       "\n",
       "[8 rows x 1050 columns]"
      ]
     },
     "execution_count": 27,
     "metadata": {},
     "output_type": "execute_result"
    }
   ],
   "source": [
    "X_res.describe()"
   ]
  },
  {
   "cell_type": "code",
   "execution_count": null,
   "metadata": {},
   "outputs": [
    {
     "data": {
      "text/html": [
       "<style>#sk-container-id-2 {color: black;background-color: white;}#sk-container-id-2 pre{padding: 0;}#sk-container-id-2 div.sk-toggleable {background-color: white;}#sk-container-id-2 label.sk-toggleable__label {cursor: pointer;display: block;width: 100%;margin-bottom: 0;padding: 0.3em;box-sizing: border-box;text-align: center;}#sk-container-id-2 label.sk-toggleable__label-arrow:before {content: \"▸\";float: left;margin-right: 0.25em;color: #696969;}#sk-container-id-2 label.sk-toggleable__label-arrow:hover:before {color: black;}#sk-container-id-2 div.sk-estimator:hover label.sk-toggleable__label-arrow:before {color: black;}#sk-container-id-2 div.sk-toggleable__content {max-height: 0;max-width: 0;overflow: hidden;text-align: left;background-color: #f0f8ff;}#sk-container-id-2 div.sk-toggleable__content pre {margin: 0.2em;color: black;border-radius: 0.25em;background-color: #f0f8ff;}#sk-container-id-2 input.sk-toggleable__control:checked~div.sk-toggleable__content {max-height: 200px;max-width: 100%;overflow: auto;}#sk-container-id-2 input.sk-toggleable__control:checked~label.sk-toggleable__label-arrow:before {content: \"▾\";}#sk-container-id-2 div.sk-estimator input.sk-toggleable__control:checked~label.sk-toggleable__label {background-color: #d4ebff;}#sk-container-id-2 div.sk-label input.sk-toggleable__control:checked~label.sk-toggleable__label {background-color: #d4ebff;}#sk-container-id-2 input.sk-hidden--visually {border: 0;clip: rect(1px 1px 1px 1px);clip: rect(1px, 1px, 1px, 1px);height: 1px;margin: -1px;overflow: hidden;padding: 0;position: absolute;width: 1px;}#sk-container-id-2 div.sk-estimator {font-family: monospace;background-color: #f0f8ff;border: 1px dotted black;border-radius: 0.25em;box-sizing: border-box;margin-bottom: 0.5em;}#sk-container-id-2 div.sk-estimator:hover {background-color: #d4ebff;}#sk-container-id-2 div.sk-parallel-item::after {content: \"\";width: 100%;border-bottom: 1px solid gray;flex-grow: 1;}#sk-container-id-2 div.sk-label:hover label.sk-toggleable__label {background-color: #d4ebff;}#sk-container-id-2 div.sk-serial::before {content: \"\";position: absolute;border-left: 1px solid gray;box-sizing: border-box;top: 0;bottom: 0;left: 50%;z-index: 0;}#sk-container-id-2 div.sk-serial {display: flex;flex-direction: column;align-items: center;background-color: white;padding-right: 0.2em;padding-left: 0.2em;position: relative;}#sk-container-id-2 div.sk-item {position: relative;z-index: 1;}#sk-container-id-2 div.sk-parallel {display: flex;align-items: stretch;justify-content: center;background-color: white;position: relative;}#sk-container-id-2 div.sk-item::before, #sk-container-id-2 div.sk-parallel-item::before {content: \"\";position: absolute;border-left: 1px solid gray;box-sizing: border-box;top: 0;bottom: 0;left: 50%;z-index: -1;}#sk-container-id-2 div.sk-parallel-item {display: flex;flex-direction: column;z-index: 1;position: relative;background-color: white;}#sk-container-id-2 div.sk-parallel-item:first-child::after {align-self: flex-end;width: 50%;}#sk-container-id-2 div.sk-parallel-item:last-child::after {align-self: flex-start;width: 50%;}#sk-container-id-2 div.sk-parallel-item:only-child::after {width: 0;}#sk-container-id-2 div.sk-dashed-wrapped {border: 1px dashed gray;margin: 0 0.4em 0.5em 0.4em;box-sizing: border-box;padding-bottom: 0.4em;background-color: white;}#sk-container-id-2 div.sk-label label {font-family: monospace;font-weight: bold;display: inline-block;line-height: 1.2em;}#sk-container-id-2 div.sk-label-container {text-align: center;}#sk-container-id-2 div.sk-container {/* jupyter's `normalize.less` sets `[hidden] { display: none; }` but bootstrap.min.css set `[hidden] { display: none !important; }` so we also need the `!important` here to be able to override the default hidden behavior on the sphinx rendered scikit-learn.org. See: https://github.com/scikit-learn/scikit-learn/issues/21755 */display: inline-block !important;position: relative;}#sk-container-id-2 div.sk-text-repr-fallback {display: none;}</style><div id=\"sk-container-id-2\" class=\"sk-top-container\"><div class=\"sk-text-repr-fallback\"><pre>RandomForestClassifier(random_state=42)</pre><b>In a Jupyter environment, please rerun this cell to show the HTML representation or trust the notebook. <br />On GitHub, the HTML representation is unable to render, please try loading this page with nbviewer.org.</b></div><div class=\"sk-container\" hidden><div class=\"sk-item\"><div class=\"sk-estimator sk-toggleable\"><input class=\"sk-toggleable__control sk-hidden--visually\" id=\"sk-estimator-id-2\" type=\"checkbox\" checked><label for=\"sk-estimator-id-2\" class=\"sk-toggleable__label sk-toggleable__label-arrow\">RandomForestClassifier</label><div class=\"sk-toggleable__content\"><pre>RandomForestClassifier(random_state=42)</pre></div></div></div></div></div>"
      ],
      "text/plain": [
       "RandomForestClassifier(random_state=42)"
      ]
     },
     "execution_count": 28,
     "metadata": {},
     "output_type": "execute_result"
    }
   ],
   "source": [
    "from sklearn.ensemble import RandomForestClassifier\n",
    "\n",
    "# create the random forest object\n",
    "rf = RandomForestClassifier(n_estimators=100, random_state=49)\n",
    "\n",
    "# train the random forest on the resampled data\n",
    "rf.fit(X_res, y_res)\n"
   ]
  },
  {
   "cell_type": "code",
   "execution_count": null,
   "metadata": {},
   "outputs": [],
   "source": [
    "df1 = pd.read_csv('test.csv')\n",
    "X_test = df1.drop('id', axis=1)\n",
    "y_test = df1['id']"
   ]
  },
  {
   "cell_type": "code",
   "execution_count": null,
   "metadata": {},
   "outputs": [
    {
     "name": "stdout",
     "output_type": "stream",
     "text": [
      "                 id  F1  F2  F3  F4  F5  F6  F7  F8  F9  ...  F1041  F1042  \\\n",
      "0          ucs654-1   0   3   2   1   2   3   2   3   0  ...      0      0   \n",
      "1          ucs654-2   2   4   1   4   4   1   4   4   4  ...      2      4   \n",
      "2          ucs654-3   3   3   4   3   1   4   0   2   3  ...      2      3   \n",
      "3          ucs654-4   4   3   1   0   0   3   1   3   2  ...      2      1   \n",
      "4          ucs654-5   2   1   4   0   3   0   4   4   2  ...      3      3   \n",
      "...             ...  ..  ..  ..  ..  ..  ..  ..  ..  ..  ...    ...    ...   \n",
      "49995  ucs654-49996   3   2   2   3   4   0   4   0   4  ...      3      2   \n",
      "49996  ucs654-49997   3   3   1   3   0   2   0   1   4  ...      2      3   \n",
      "49997  ucs654-49998   4   4   0   4   0   4   0   2   3  ...      2      3   \n",
      "49998  ucs654-49999   2   2   2   2   2   1   0   1   1  ...      1      0   \n",
      "49999  ucs654-50000   3   3   2   3   3   0   3   1   2  ...      0      3   \n",
      "\n",
      "       F1043  F1044  F1045  F1046  F1047  F1048  F1049  F1050  \n",
      "0          4      4      0      3      0      1      3      1  \n",
      "1          4      4      3      3      4      1      0      3  \n",
      "2          2      1      2      0      0      0      4      0  \n",
      "3          2      1      2      1      0      2      4      2  \n",
      "4          1      4      3      3      4      3      0      1  \n",
      "...      ...    ...    ...    ...    ...    ...    ...    ...  \n",
      "49995      1      2      2      1      0      0      2      0  \n",
      "49996      4      3      1      1      0      2      4      3  \n",
      "49997      3      4      0      3      1      2      3      0  \n",
      "49998      0      1      3      1      0      1      4      1  \n",
      "49999      1      2      0      0      3      2      1      4  \n",
      "\n",
      "[50000 rows x 1051 columns]\n"
     ]
    }
   ],
   "source": [
    "print(df1)"
   ]
  },
  {
   "cell_type": "code",
   "execution_count": null,
   "metadata": {},
   "outputs": [
    {
     "name": "stdout",
     "output_type": "stream",
     "text": [
      "       F1  F2  F3  F4  F5  F6  F7  F8  F9  F10  ...  F1041  F1042  F1043  \\\n",
      "0       0   3   2   1   2   3   2   3   0    2  ...      0      0      4   \n",
      "1       2   4   1   4   4   1   4   4   4    0  ...      2      4      4   \n",
      "2       3   3   4   3   1   4   0   2   3    4  ...      2      3      2   \n",
      "3       4   3   1   0   0   3   1   3   2    2  ...      2      1      2   \n",
      "4       2   1   4   0   3   0   4   4   2    3  ...      3      3      1   \n",
      "...    ..  ..  ..  ..  ..  ..  ..  ..  ..  ...  ...    ...    ...    ...   \n",
      "49995   3   2   2   3   4   0   4   0   4    1  ...      3      2      1   \n",
      "49996   3   3   1   3   0   2   0   1   4    1  ...      2      3      4   \n",
      "49997   4   4   0   4   0   4   0   2   3    2  ...      2      3      3   \n",
      "49998   2   2   2   2   2   1   0   1   1    1  ...      1      0      0   \n",
      "49999   3   3   2   3   3   0   3   1   2    1  ...      0      3      1   \n",
      "\n",
      "       F1044  F1045  F1046  F1047  F1048  F1049  F1050  \n",
      "0          4      0      3      0      1      3      1  \n",
      "1          4      3      3      4      1      0      3  \n",
      "2          1      2      0      0      0      4      0  \n",
      "3          1      2      1      0      2      4      2  \n",
      "4          4      3      3      4      3      0      1  \n",
      "...      ...    ...    ...    ...    ...    ...    ...  \n",
      "49995      2      2      1      0      0      2      0  \n",
      "49996      3      1      1      0      2      4      3  \n",
      "49997      4      0      3      1      2      3      0  \n",
      "49998      1      3      1      0      1      4      1  \n",
      "49999      2      0      0      3      2      1      4  \n",
      "\n",
      "[50000 rows x 1050 columns]\n"
     ]
    }
   ],
   "source": [
    "print(X_test)"
   ]
  },
  {
   "cell_type": "code",
   "execution_count": null,
   "metadata": {},
   "outputs": [
    {
     "name": "stdout",
     "output_type": "stream",
     "text": [
      "[4 1 0 ... 4 4 2]\n"
     ]
    }
   ],
   "source": [
    "y_pred = rf.predict(X_test)\n",
    "print(y_pred)"
   ]
  },
  {
   "cell_type": "code",
   "execution_count": null,
   "metadata": {},
   "outputs": [],
   "source": [
    "# pred = pd.DataFrame(y_pred,columns=\"target\")\n",
    "# sub = pd.concat([X_test.id,pred],axis=1)\n",
    "# sub.set_index('id',inplace=True)\n",
    "# sub.to_csv(f\"Submission_file_JatinGoyal.csv\")\n",
    "\n",
    "df1[\"target\"] = y_pred\n",
    "\n",
    "to_submit = df1[['id',\"target\"]]\n",
    "\n",
    "to_submit.to_csv(\"submission_Jatin5_condensed.csv\", index = False)"
   ]
  }
 ],
 "metadata": {
  "kernelspec": {
   "display_name": "Python 3",
   "language": "python",
   "name": "python3"
  },
  "language_info": {
   "codemirror_mode": {
    "name": "ipython",
    "version": 3
   },
   "file_extension": ".py",
   "mimetype": "text/x-python",
   "name": "python",
   "nbconvert_exporter": "python",
   "pygments_lexer": "ipython3",
   "version": "3.9.12 (main, Apr  4 2022, 05:22:27) [MSC v.1916 64 bit (AMD64)]"
  },
  "orig_nbformat": 4,
  "vscode": {
   "interpreter": {
    "hash": "32cdeed936141e1f2e77a14e89d312a72fc6e9940eb399bd0c10e89bc21c5645"
   }
  }
 },
 "nbformat": 4,
 "nbformat_minor": 2
}
